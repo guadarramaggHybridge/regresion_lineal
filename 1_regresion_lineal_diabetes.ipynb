{
 "cells": [
  {
   "cell_type": "markdown",
   "id": "d3ae4b27-d3ed-4cda-9b07-8ba2cb297f01",
   "metadata": {},
   "source": [
    "# Regresión lineal para predicción de progresión de diabetes\n",
    "- age: Representa la edad del paciente, normalizada (no es la edad real, sino una representación estandarizada).\n",
    "- sex: Sexo del paciente, representado como una variable numérica normalizada (valores entre -0.5 y 0.5).\n",
    "- bmi: Índice de Masa Corporal (Body Mass Index, BMI), una medida del peso relativo al cuadrado de la altura.\n",
    "- bp:\n",
    "Promedio de presión arterial (Blood Pressure, BP), normalizada.\n",
    "- s1: Nivel sérico de lípidos totales (colesterol total).\n",
    "- s2: Nivel sérico de lipoproteínas de baja densidad (LDL, “colesterol malo”).\n",
    "- s3: Nivel sérico de lipoproteínas de alta densidad (HDL, “colesterol bueno”).\n",
    "- s4: Relación entre el colesterol total y HDL.\n",
    "- s5: Nivel sérico de triglicéridos, representado como una medida numérica normalizada.\n",
    "- s6: Nivel sérico de glucosa en ayuno, una medida clave en el monitoreo de la diabetes."
   ]
  },
  {
   "cell_type": "code",
   "execution_count": null,
   "id": "fbd0eee3-ccee-4c77-9670-222753dd3398",
   "metadata": {},
   "outputs": [],
   "source": [
    "# Importar las librerías necesarias\n",
    "import pandas as pd\n",
    "import numpy as np\n",
    "import matplotlib.pyplot as plt\n",
    "from sklearn.datasets import load_diabetes\n",
    "\n",
    "# Cargar el conjunto de datos\n",
    "diabetes_data = load_diabetes()\n",
    "\n",
    "# Convertir el conjunto de datos a un DataFrame para facilitar su manipulación\n",
    "df = pd.DataFrame(data=diabetes_data.data, columns=diabetes_data.feature_names)\n",
    "df['target'] = diabetes_data.target  # Agregar la variable objetivo al DataFrame\n",
    "\n",
    "# Mostrar las primeras filas del DataFrame\n",
    "df.head()"
   ]
  },
  {
   "cell_type": "code",
   "execution_count": null,
   "id": "12cb2309-84b3-4c0b-997f-88e999e9fc66",
   "metadata": {},
   "outputs": [],
   "source": []
  }
 ],
 "metadata": {
  "kernelspec": {
   "display_name": "Python 3 (ipykernel)",
   "language": "python",
   "name": "python3"
  },
  "language_info": {
   "codemirror_mode": {
    "name": "ipython",
    "version": 3
   },
   "file_extension": ".py",
   "mimetype": "text/x-python",
   "name": "python",
   "nbconvert_exporter": "python",
   "pygments_lexer": "ipython3",
   "version": "3.13.0"
  }
 },
 "nbformat": 4,
 "nbformat_minor": 5
}
